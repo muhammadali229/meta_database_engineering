{
 "cells": [
  {
   "cell_type": "code",
   "execution_count": 1,
   "id": "0d1cc5df",
   "metadata": {},
   "outputs": [
    {
     "name": "stdout",
     "output_type": "stream",
     "text": [
      "Getting a connection from the pool.\n",
      "Creating a cursor object.\n"
     ]
    }
   ],
   "source": [
    "from mysql.connector.pooling import MySQLConnectionPool\n",
    "from mysql.connector import Error\n",
    "\n",
    "dbconfig = {\n",
    "    \"database\":\"little_lemon_db\",\n",
    "    \"user\" : \"root\",\n",
    "    \"password\" : \"admin123\"\n",
    "}\n",
    "\n",
    "try:\n",
    "    pool = MySQLConnectionPool(pool_name = \"ll_pool_a\",\n",
    "                           pool_size = 3, #default is 5\n",
    "                           **dbconfig)\n",
    "    # Get the connection from the connection pool \"pool\"\n",
    "    print(\"Getting a connection from the pool.\")\n",
    "    connection = pool.get_connection()\n",
    "    print(\"Creating a cursor object.\")\n",
    "    cursor = connection.cursor()\n",
    "except Error as er:\n",
    "    print(\"Error code:\", er.errno)\n",
    "    print(\"Error message:\", er.msg)"
   ]
  },
  {
   "cell_type": "code",
   "execution_count": 3,
   "id": "bd1ecdb2",
   "metadata": {},
   "outputs": [
    {
     "name": "stdout",
     "output_type": "stream",
     "text": [
      "['hour(bookingslot)', 'no_of_bookings']\n",
      "(19, 2)\n",
      "(15, 1)\n",
      "(17, 1)\n",
      "(18, 1)\n",
      "(20, 1)\n"
     ]
    }
   ],
   "source": [
    "# Task 1\n",
    "# Stored procedure name >> PeakHours\n",
    "# Our stored procedure query is\n",
    "stored_procedure_query=\"\"\"\n",
    "CREATE PROCEDURE PeakHours()\n",
    "\n",
    "BEGIN\n",
    "    select \n",
    "        hour(bookingslot),\n",
    "        count(*) no_of_bookings\n",
    "    from \n",
    "        bookings\n",
    "    group by \n",
    "        hour(bookingslot)\n",
    "    order by \n",
    "        2 desc;\n",
    "END\n",
    "\"\"\"\n",
    "\n",
    "# Execute the query\n",
    "cursor.execute(stored_procedure_query)\n",
    "\n",
    "#********************************************#\n",
    "\n",
    "# Call the stored procedure with its name\n",
    "cursor.callproc(\"PeakHours\")\n",
    "\n",
    "# Retrieve recrods in \"dataset\"\n",
    "results = next( cursor.stored_results() )\n",
    "dataset = results.fetchall()\n",
    "\n",
    "# Retrieve column names using list comprehension in a 'for' loop \n",
    "for column_id in cursor.stored_results():\n",
    "    columns = [ column[0] for column in column_id.description ]\n",
    "\n",
    "# Print column names\n",
    "print(columns)\n",
    "\n",
    "# Print data \n",
    "for data in dataset:\n",
    "    print(data)"
   ]
  },
  {
   "cell_type": "code",
   "execution_count": 4,
   "id": "e93a2c23",
   "metadata": {},
   "outputs": [
    {
     "name": "stdout",
     "output_type": "stream",
     "text": [
      "['guestfullname', 'status']\n",
      "('Anna Iversen', 'Ready to pay')\n",
      "('Joakim Iversen', 'Ready to pay')\n",
      "('Vanessa McCarthy', 'Ready to serve')\n",
      "('Marcos Romero', 'Preparing Order')\n",
      "('Hiroki Yamane', 'Ready to pay')\n",
      "('Diana Pinto', 'Order served')\n"
     ]
    }
   ],
   "source": [
    "# Task 1\n",
    "# Stored procedure name >> GuestStatus\n",
    "# Our stored procedure query is\n",
    "stored_procedure_query=\"\"\"\n",
    "CREATE PROCEDURE GuestStatus()\n",
    "\n",
    "BEGIN\n",
    "    select \n",
    "        concat(guestfirstname, ' ', guestlastname) guestfullname,\n",
    "        case \n",
    "            when e.role in ('Manager', 'Assistant Manager') then 'Ready to pay'\n",
    "            when e.role = 'Head Chef' then 'Ready to serve'\n",
    "            when e.role = 'Assistant Chef' then 'Preparing Order'\n",
    "            when e.role = 'Head Waiter' then 'Order served'\n",
    "        end status\n",
    "    from \n",
    "        bookings b left join employees e on b.employeeid = e.employeeid;\n",
    "END\n",
    "\"\"\"\n",
    "\n",
    "# Execute the query\n",
    "cursor.execute(stored_procedure_query)\n",
    "\n",
    "#********************************************#\n",
    "\n",
    "# Call the stored procedure with its name\n",
    "cursor.callproc(\"GuestStatus\")\n",
    "\n",
    "# Retrieve recrods in \"dataset\"\n",
    "results = next( cursor.stored_results() )\n",
    "dataset = results.fetchall()\n",
    "\n",
    "# Retrieve column names using list comprehension in a 'for' loop \n",
    "for column_id in cursor.stored_results():\n",
    "    columns = [ column[0] for column in column_id.description ]\n",
    "\n",
    "# Print column names\n",
    "print(columns)\n",
    "\n",
    "# Print data \n",
    "for data in dataset:\n",
    "    print(data)"
   ]
  },
  {
   "cell_type": "code",
   "execution_count": null,
   "id": "f0d13d9f",
   "metadata": {},
   "outputs": [],
   "source": []
  }
 ],
 "metadata": {
  "kernelspec": {
   "display_name": "Python 3 (ipykernel)",
   "language": "python",
   "name": "python3"
  },
  "language_info": {
   "codemirror_mode": {
    "name": "ipython",
    "version": 3
   },
   "file_extension": ".py",
   "mimetype": "text/x-python",
   "name": "python",
   "nbconvert_exporter": "python",
   "pygments_lexer": "ipython3",
   "version": "3.7.9"
  }
 },
 "nbformat": 4,
 "nbformat_minor": 5
}
