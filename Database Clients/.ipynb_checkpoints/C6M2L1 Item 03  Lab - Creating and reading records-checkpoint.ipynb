{
 "cells": [
  {
   "cell_type": "markdown",
   "metadata": {},
   "source": [
    "## C6M2L1 Item 03 - Creating and reading records"
   ]
  },
  {
   "cell_type": "markdown",
   "metadata": {},
   "source": [
    "## Generic guidelines     \n",
    "\n",
    "Refer to the [Exercise](https://www.coursera.org/learn/database-clients/supplement/0oDtw/working-with-labs-in-this-course) for guidance on viewing your code, instructions related to the Jupyter notebook environment, as well as how to access the MySQL database in it.    \n",
    "\n",
    "## Prerequisites  \n",
    "\n",
    "To complete this exercise, you must have access to the `“little_lemon”` database. As an authorized user, you need to establish a connection between Python and the database via the connector API and create a `“cursor”` object using the following code: "
   ]
  },
  {
   "cell_type": "code",
   "execution_count": 1,
   "metadata": {},
   "outputs": [],
   "source": [
    "import mysql.connector as connector"
   ]
  },
  {
   "cell_type": "code",
   "execution_count": 2,
   "metadata": {},
   "outputs": [],
   "source": [
    "# Establish connection between Python and MySQL database via connector API\n",
    "connection=connector.connect(\n",
    "                             user=\"root\", # use your own\n",
    "                             password=\"admin123\", # use your own\n",
    "                            )"
   ]
  },
  {
   "cell_type": "code",
   "execution_count": 3,
   "metadata": {},
   "outputs": [],
   "source": [
    "# Create cursor object to communicate with entire MySQL database\n",
    "cursor = connection.cursor()"
   ]
  },
  {
   "cell_type": "markdown",
   "metadata": {},
   "source": [
    "Once, the connection is established, and you have a cursor object, you can select the database `“little_lemon”` and print the names of the tables using the following code: "
   ]
  },
  {
   "cell_type": "code",
   "execution_count": 4,
   "metadata": {},
   "outputs": [
    {
     "name": "stdout",
     "output_type": "stream",
     "text": [
      "Database is use is: little_lemon\n",
      "\n",
      "The existing tables in the little_lemon database are:\n",
      "('bookings',)\n",
      "('menuitems',)\n",
      "('menus',)\n",
      "('orders',)\n"
     ]
    }
   ],
   "source": [
    "# Setting little_lemon for use \n",
    "cursor.execute(\"use little_lemon\")\n",
    "\n",
    "# Confirming\n",
    "print(\"Database is use is:\", connection.database)\n",
    "print()\n",
    "print(\"The existing tables in the little_lemon database are:\")\n",
    "cursor.execute(\"SHOW TABLES\") \n",
    "# Print table names \n",
    "for table in cursor: \n",
    "    print(table)"
   ]
  },
  {
   "cell_type": "markdown",
   "metadata": {},
   "source": [
    "## Scenario \n",
    "\n",
    "Little Lemon restaurant has created a database and designed tables to keep records of key data. The list of tables that they’ve created are as follows: \n",
    "\n",
    "* A table called `Menu` that stores menu data, \n",
    "* A table called `MenuItems` that stores data on menu items, \n",
    "* A table called `Orders` that stores data on customer orders, \n",
    "* And a table called `Bookings` that stores data on customer bookings. \n",
    "\n",
    "They now need to populate these tables with relevant data. They also need to read the data once the records have been inserted into the database.  \n",
    "\n",
    "Help Little Lemon create and read data in their MySQL database using Python. "
   ]
  },
  {
   "cell_type": "markdown",
   "metadata": {},
   "source": [
    "## Task 1:\n",
    "\n",
    "Insert data in all four tables in the `\"little_lemon\"` database using Python. Use the following `\"INSERT\"` queries to populate the tables with relevant data. \n",
    "\n",
    "Use the `\"SELECT\"` command to check the output and ensure that each `\"INSERT\"` query has been executed successfully. "
   ]
  },
  {
   "cell_type": "code",
   "execution_count": null,
   "metadata": {},
   "outputs": [],
   "source": [
    "# Add your code here"
   ]
  },
  {
   "cell_type": "markdown",
   "metadata": {},
   "source": [
    "## Task 2:\n",
    "\n",
    "In the first task, you created records in the empty tables. Now the restaurant requires the following data for each guest: \n",
    "\n",
    "* Guest first and last names  \n",
    "* The table number assigned to each guest.  \n",
    "\n",
    "You can help Little Lemon to read this data from the “Bookings” table using Python. \n",
    "\n",
    "The SELECT query you need to complete this task is as follows:  \n",
    "\n",
    "```Python\n",
    "all_bookings = \"\"\"SELECT GuestFirstName, GuestLastName, TableNo FROM Bookings;\"\"\" \n",
    "```\n",
    "\n",
    "**Tip:** Only read the required columns from the “Bookings” table. Use the  “column_names” attribute from the “cursor” to extract the names of the column and print them using Python’s “print” statement before printing the records. Use for loop to iterate over the “results” that you fetch using the “cursor”. "
   ]
  },
  {
   "cell_type": "code",
   "execution_count": null,
   "metadata": {},
   "outputs": [],
   "source": [
    "# Add your code here"
   ]
  },
  {
   "cell_type": "markdown",
   "metadata": {},
   "source": [
    "## Task 3:\n",
    "\n",
    "For the next task, you need to read all the records in the `“Menu”` table and retrieve only the first three from the `“cursor”`. Your read query is the following: \n",
    "\n",
    "```Python\n",
    "all_menus = \"\"\"SELECT * FROM Menus;\"\"\" \n",
    "```\n",
    "\n",
    "**Tip:** Explore the functions that you can invoke on the cursor. It is always a good idea to store the query output in a python variable (e.g., “results”) for later use, and you can print them using for loop in python.  \n",
    "\n",
    "**Option 1:**"
   ]
  },
  {
   "cell_type": "code",
   "execution_count": null,
   "metadata": {},
   "outputs": [],
   "source": [
    "# Add your code here"
   ]
  },
  {
   "cell_type": "markdown",
   "metadata": {},
   "source": [
    "After grabbing first three records, the cursor will be at the fourth record and we can call `fetchall()` to grab them."
   ]
  },
  {
   "cell_type": "code",
   "execution_count": null,
   "metadata": {},
   "outputs": [],
   "source": [
    "# Add your code here"
   ]
  },
  {
   "cell_type": "markdown",
   "metadata": {},
   "source": [
    "**Options 2:**\n",
    "\n",
    "This task can also be accomplished by setting `LIMIT 3` in the `SQL` query."
   ]
  },
  {
   "cell_type": "code",
   "execution_count": null,
   "metadata": {},
   "outputs": [],
   "source": []
  }
 ],
 "metadata": {
  "kernelspec": {
   "display_name": "Python 3 (ipykernel)",
   "language": "python",
   "name": "python3"
  },
  "language_info": {
   "codemirror_mode": {
    "name": "ipython",
    "version": 3
   },
   "file_extension": ".py",
   "mimetype": "text/x-python",
   "name": "python",
   "nbconvert_exporter": "python",
   "pygments_lexer": "ipython3",
   "version": "3.7.9"
  }
 },
 "nbformat": 4,
 "nbformat_minor": 4
}
