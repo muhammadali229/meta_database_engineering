{
 "cells": [
  {
   "cell_type": "code",
   "execution_count": 7,
   "id": "06e78306",
   "metadata": {},
   "outputs": [
    {
     "name": "stdout",
     "output_type": "stream",
     "text": [
      "Getting a connection from the pool.\n",
      "Creating a cursor object.\n"
     ]
    }
   ],
   "source": [
    "from mysql.connector.pooling import MySQLConnectionPool\n",
    "from mysql.connector import Error\n",
    "\n",
    "dbconfig = {\n",
    "    \"database\":\"little_lemon_db\",\n",
    "    \"user\" : \"root\",\n",
    "    \"password\" : \"admin123\"\n",
    "}\n",
    "\n",
    "try:\n",
    "    pool = MySQLConnectionPool(pool_name = \"pool_b\",\n",
    "                           pool_size = 3, #default is 5\n",
    "                           **dbconfig)\n",
    "    # Get the connection from the connection pool \"pool\"\n",
    "    print(\"Getting a connection from the pool.\")\n",
    "    connection = pool.get_connection()\n",
    "    print(\"Creating a cursor object.\")\n",
    "    cursor = connection.cursor()\n",
    "except Error as er:\n",
    "    print(\"Error code:\", er.errno)\n",
    "    print(\"Error message:\", er.msg)"
   ]
  },
  {
   "cell_type": "markdown",
   "id": "fdee5048",
   "metadata": {},
   "source": [
    "### Guest 1:\n",
    "\n",
    "Table Number: 8\n",
    "\n",
    "First Name: Anees\n",
    "\n",
    "Last Name: Java\n",
    "\n",
    "Booking Time: 18:00\n",
    "\n",
    "EmployeeID: 6\n",
    "\n",
    "\n",
    "### Guest 2:\n",
    "\n",
    "Table Number: 5\n",
    "\n",
    "First Name: Bald\n",
    "\n",
    "Last Name: Vin\n",
    "\n",
    "Booking Time: 19:00\n",
    "\n",
    "EmployeeID: 6\n",
    "\n",
    "\n",
    "### Guest 3:\n",
    "\n",
    "Table Number: 12\n",
    "\n",
    "First Name: Jay\n",
    "\n",
    "Last Name: Kon\n",
    "\n",
    "Booking Time: 19:30 \n",
    "\n",
    "EmployeeID: 6"
   ]
  },
  {
   "cell_type": "code",
   "execution_count": 4,
   "id": "0298b991",
   "metadata": {},
   "outputs": [],
   "source": [
    "insert_bookings=\"\"\"\n",
    "INSERT INTO Bookings (TableNo, GuestFirstName, \n",
    "GuestLastName, BookingSlot, EmployeeID)\n",
    "VALUES\n",
    "(8, 'Anees','Java','18:00:00',6),\n",
    "(5, 'Bald', 'Vin', '19:00:00', 6),\n",
    "(12, 'Jay', 'Kon', '19:30:00', 6);\"\"\"\n",
    "\n",
    "# Populate Bookings table\n",
    "cursor.execute(insert_bookings)\n",
    "connection.commit()"
   ]
  },
  {
   "cell_type": "markdown",
   "id": "720d74a3",
   "metadata": {},
   "source": [
    "### Task 3:\n",
    "Create a report containing the following information:"
   ]
  },
  {
   "cell_type": "code",
   "execution_count": 5,
   "id": "9f4e1476",
   "metadata": {},
   "outputs": [
    {
     "name": "stdout",
     "output_type": "stream",
     "text": [
      "('employeeid', 'name')\n",
      "(1, 'Mario Gollini')\n"
     ]
    }
   ],
   "source": [
    "# The name and EmployeeID of the Little Lemon manager.\n",
    "task_3_1 = \"\"\"\n",
    "    select \n",
    "        employeeid,\n",
    "        name\n",
    "    from \n",
    "        employees\n",
    "    where \n",
    "        role = 'Manager';\n",
    "\"\"\"\n",
    "\n",
    "# Execute query\n",
    "cursor.execute(task_3_1)\n",
    "\n",
    "# Fetch records \n",
    "results = cursor.fetchall()\n",
    "\n",
    "# Retrieve column names\n",
    "columns = cursor.column_names\n",
    "\n",
    "# Print column names\n",
    "print(columns)\n",
    "\n",
    "# Print query results\n",
    "for result in results:\n",
    "    print(result)"
   ]
  },
  {
   "cell_type": "code",
   "execution_count": 6,
   "id": "a0574e29",
   "metadata": {},
   "outputs": [
    {
     "name": "stdout",
     "output_type": "stream",
     "text": [
      "('name', 'role')\n",
      "('Mario Gollini', 'Manager')\n"
     ]
    }
   ],
   "source": [
    "# The name and role of the employee who receives the highest salary.\n",
    "task_3_2 = \"\"\"\n",
    "    select\n",
    "        name,\n",
    "        role\n",
    "    from \n",
    "        employees \n",
    "    order by \n",
    "        annual_salary desc\n",
    "    limit 1;\n",
    "\"\"\"\n",
    "\n",
    "# Execute query\n",
    "cursor.execute(task_3_2)\n",
    "\n",
    "# Fetch records \n",
    "results = cursor.fetchall()\n",
    "\n",
    "# Retrieve column names\n",
    "columns = cursor.column_names\n",
    "\n",
    "# Print column names\n",
    "print(columns)\n",
    "\n",
    "# Print query results\n",
    "for result in results:\n",
    "    print(result)"
   ]
  },
  {
   "cell_type": "code",
   "execution_count": 7,
   "id": "0c428353",
   "metadata": {},
   "outputs": [
    {
     "name": "stdout",
     "output_type": "stream",
     "text": [
      "('no_of_guests',)\n",
      "(7,)\n"
     ]
    }
   ],
   "source": [
    "# The number of guests booked between 18:00 and 20:00.\n",
    "task_3_3 = \"\"\"\n",
    "    select\n",
    "        count(*) no_of_guests\n",
    "    from \n",
    "        bookings \n",
    "    where \n",
    "        hour(bookingslot) between 18 and 20;\n",
    "\"\"\"\n",
    "\n",
    "# Execute query\n",
    "cursor.execute(task_3_3)\n",
    "\n",
    "# Fetch records \n",
    "results = cursor.fetchall()\n",
    "\n",
    "# Retrieve column names\n",
    "columns = cursor.column_names\n",
    "\n",
    "# Print column names\n",
    "print(columns)\n",
    "\n",
    "# Print query results\n",
    "for result in results:\n",
    "    print(result)"
   ]
  },
  {
   "cell_type": "code",
   "execution_count": 8,
   "id": "b38c97b2",
   "metadata": {},
   "outputs": [
    {
     "name": "stdout",
     "output_type": "stream",
     "text": [
      "('bookingid', 'guestfullname')\n",
      "(5, 'Hiroki Yamane')\n",
      "(8, 'Bald Vin')\n",
      "(7, 'Anees Java')\n",
      "(6, 'Diana Pinto')\n",
      "(1, 'Anna Iversen')\n",
      "(2, 'Joakim Iversen')\n",
      "(9, 'Jay Kon')\n",
      "(4, 'Marcos Romero')\n",
      "(3, 'Vanessa McCarthy')\n"
     ]
    }
   ],
   "source": [
    "# The full name and BookingID of all guests waiting to be seated with the receptionist in sorted order with respect to their BookingSlot.\n",
    "task_3_4 = \"\"\"\n",
    "    select\n",
    "        bookingid,\n",
    "        concat(guestfirstname, ' ', guestlastname) guestfullname\n",
    "    from \n",
    "        bookings \n",
    "    order by \n",
    "        tableno, bookingslot\n",
    "\"\"\"\n",
    "\n",
    "# Execute query\n",
    "cursor.execute(task_3_4)\n",
    "\n",
    "# Fetch records \n",
    "results = cursor.fetchall()\n",
    "\n",
    "# Retrieve column names\n",
    "columns = cursor.column_names\n",
    "\n",
    "# Print column names\n",
    "print(columns)\n",
    "\n",
    "# Print query results\n",
    "for result in results:\n",
    "    print(result)"
   ]
  },
  {
   "cell_type": "markdown",
   "id": "f30924d2",
   "metadata": {},
   "source": [
    "### Task 4:\n",
    "Create a stored procedure named BasicSalesReport that returns the following statistics: \n",
    "\n",
    "Total sales\n",
    "\n",
    "Average sale\n",
    "\n",
    "Minimum bill paid\n",
    "\n",
    "Maximum bill paid"
   ]
  },
  {
   "cell_type": "code",
   "execution_count": 10,
   "id": "ccda7615",
   "metadata": {},
   "outputs": [
    {
     "name": "stdout",
     "output_type": "stream",
     "text": [
      "['totalsales', 'avgsales', 'min_billamount', 'max_billamount']\n",
      "(Decimal('48.6000'), Decimal('243'), 37, 86)\n"
     ]
    }
   ],
   "source": [
    "stored_procedure_query=\"\"\"\n",
    "CREATE PROCEDURE BasicSalesReport()\n",
    "\n",
    "BEGIN\n",
    "    select\n",
    "        avg(billamount) totalsales,\n",
    "        sum(billamount) avgsales,\n",
    "        min(billamount) min_billamount,\n",
    "        max(billamount) max_billamount\n",
    "    from \n",
    "        orders; \n",
    "END\n",
    "\"\"\"\n",
    "\n",
    "# Execute the query\n",
    "cursor.execute(stored_procedure_query)\n",
    "\n",
    "#********************************************#\n",
    "\n",
    "# Call the stored procedure with its name\n",
    "cursor.callproc(\"BasicSalesReport\")\n",
    "\n",
    "# Retrieve recrods in \"dataset\"\n",
    "results = next( cursor.stored_results() )\n",
    "dataset = results.fetchall()\n",
    "\n",
    "# Retrieve column names using list comprehension in a 'for' loop \n",
    "for column_id in cursor.stored_results():\n",
    "    columns = [ column[0] for column in column_id.description ]\n",
    "\n",
    "# Print column names\n",
    "print(columns)\n",
    "\n",
    "# Print data \n",
    "for data in dataset:\n",
    "    print(data)"
   ]
  },
  {
   "cell_type": "code",
   "execution_count": null,
   "id": "dcf94aa0",
   "metadata": {},
   "outputs": [],
   "source": [
    "cursor.execute(\"\"\"\n",
    "SELECT ADDTIME(\"1:00:00\",\"-1:00:00\")\n",
    "\"\"\"\n",
    ")\n",
    "result=cursor.fetchall() \n",
    "print(result)"
   ]
  },
  {
   "cell_type": "code",
   "execution_count": 5,
   "id": "893d40c2",
   "metadata": {},
   "outputs": [
    {
     "name": "stdout",
     "output_type": "stream",
     "text": [
      "The cursor is closed.\n",
      "MySQL connection is closed.\n"
     ]
    }
   ],
   "source": [
    "# Let's close the cursor and the connection\n",
    "if connection.is_connected():\n",
    "    cursor.close()\n",
    "    print(\"The cursor is closed.\")\n",
    "    connection.close()\n",
    "    print(\"MySQL connection is closed.\")\n",
    "else:\n",
    "    print(\"Connection is already closed\")"
   ]
  },
  {
   "cell_type": "markdown",
   "id": "fceafb88",
   "metadata": {},
   "source": [
    "### Task 5:\n",
    "Little Lemon needs to display the next three upcoming bookings from the Bookings table on the kitchen screen to notify their chefs which orders are due next. To complete this task, carry out the following steps:\n",
    "\n",
    "Get a connection from the pool.\n",
    "\n",
    "Create a buffered cursor.\n",
    "\n",
    "Combine the data from the Bookings and the Employee tables. Sort the retrieved records in ascending order. Then display the information of the first three guests. \n",
    "\n",
    "Returned the connection back to the pool."
   ]
  },
  {
   "cell_type": "code",
   "execution_count": 10,
   "id": "c022b398",
   "metadata": {},
   "outputs": [
    {
     "name": "stdout",
     "output_type": "stream",
     "text": [
      "Getting a connection from the pool.\n",
      "Creating a cursor object.\n"
     ]
    }
   ],
   "source": [
    "try:\n",
    "    pool = MySQLConnectionPool(pool_name = \"pool_b\",\n",
    "                           pool_size = 3, #default is 5\n",
    "                           **dbconfig)\n",
    "    # Get the connection from the connection pool \"pool\"\n",
    "    print(\"Getting a connection from the pool.\")\n",
    "    connection = pool.get_connection()\n",
    "    print(\"Creating a cursor object.\")\n",
    "    cursor = connection.cursor(buffered=True)\n",
    "except Error as er:\n",
    "    print(\"Error code:\", er.errno)\n",
    "    print(\"Error message:\", er.msg)"
   ]
  },
  {
   "cell_type": "code",
   "execution_count": 14,
   "id": "d72a4ef4",
   "metadata": {},
   "outputs": [
    {
     "name": "stdout",
     "output_type": "stream",
     "text": [
      "('bookingslot', 'guest_name', '[Assigned to: Employee Name [Employee Role]]')\n",
      "('15:00', 'Vanessa McCarthy', 'Giorgos Dioudis [Head Chef]')\n",
      "('17:30', 'Marcos Romero', 'Fatma Kaya [Assistant Chef]')\n",
      "('18:00', 'Anees Java', 'John Millar [Receptionist]')\n"
     ]
    }
   ],
   "source": [
    "task_5_1 = \"\"\"\n",
    "    select\n",
    "        DATE_FORMAT(b.bookingslot, \"%H:%i\") bookingslot,\n",
    "        concat(b.guestfirstname, ' ', b.guestlastname) guest_name,\n",
    "        concat(e.name, ' [', e.role, ']') '[Assigned to: Employee Name [Employee Role]]'\n",
    "    from \n",
    "        bookings b inner join employees e \n",
    "    on \n",
    "        b.employeeid = e.employeeid\n",
    "    order by \t\n",
    "    1, 2, 3;\n",
    "\"\"\"\n",
    "\n",
    "# Execute query\n",
    "cursor.execute(task_5_1)\n",
    "\n",
    "# Fetch records \n",
    "results = cursor.fetchmany(size=3)\n",
    "\n",
    "# Retrieve column names\n",
    "columns = cursor.column_names\n",
    "\n",
    "# Print column names\n",
    "print(columns)\n",
    "\n",
    "# Print query results\n",
    "for result in results:\n",
    "    print(result)"
   ]
  },
  {
   "cell_type": "code",
   "execution_count": null,
   "id": "cbe30cb1",
   "metadata": {},
   "outputs": [],
   "source": []
  }
 ],
 "metadata": {
  "kernelspec": {
   "display_name": "Python 3 (ipykernel)",
   "language": "python",
   "name": "python3"
  },
  "language_info": {
   "codemirror_mode": {
    "name": "ipython",
    "version": 3
   },
   "file_extension": ".py",
   "mimetype": "text/x-python",
   "name": "python",
   "nbconvert_exporter": "python",
   "pygments_lexer": "ipython3",
   "version": "3.7.9"
  }
 },
 "nbformat": 4,
 "nbformat_minor": 5
}
