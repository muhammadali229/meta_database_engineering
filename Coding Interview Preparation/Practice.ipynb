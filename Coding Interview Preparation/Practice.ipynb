{
 "cells": [
  {
   "cell_type": "markdown",
   "id": "b3c69367",
   "metadata": {},
   "source": [
    "# Q1. Colors and Socks\n",
    "\n",
    "You are given an array that represents sock colors. Yellow socks are represented by one, blue socks by two, red socks by three, green socks by four, and lastly, orange socks by five. Sock colors equal the numbers as explained, namely 1,2,2,1,1,3,5,1,4, and 4. Determine how many pairs of the same color socks exist? There are four 1's which equates to two pairs of yellow socks, three and five represent odd socks. Although it is a red and orange sock, they don't have matching socks to form pairs. There are two 2's and two 4's, which each represent a pair of blue and green socks. To solve this problem succinctly, you can utilize an appropriate data structure."
   ]
  },
  {
   "cell_type": "code",
   "execution_count": 13,
   "id": "9d3f2bb0",
   "metadata": {},
   "outputs": [
    {
     "name": "stdout",
     "output_type": "stream",
     "text": [
      "{3: 3, 2: 2, 1: 3, 5: 1, 4: 1}\n",
      "2 1\n"
     ]
    }
   ],
   "source": [
    "socks_dct = {}\n",
    "socks_lst = [3,3,2,1,1,3,5,1,4,2]\n",
    "for i in socks_lst:\n",
    "    if i not in socks_dct:\n",
    "        socks_dct[i] = 1\n",
    "    else:\n",
    "        socks_dct[i] += 1\n",
    "print(socks_dct)\n",
    "for i, v in socks_dct.items():\n",
    "    if v % 2 == 0:\n",
    "        print(i, v // 2) # 2 pairs"
   ]
  },
  {
   "cell_type": "markdown",
   "id": "81c90550",
   "metadata": {},
   "source": [
    "# Q2. Fizz Buzz\n",
    "Write a program in a given language that iterates over numbers 1 to 40. Print out a number for every number except multiples of three, in which case output Fizz. For multiples of five, output Buzz, and for multiples of 3 and 5 output FizzBuzz. \n",
    "\n",
    "### Pseudocode\n",
    "Start For loop\n",
    "1. Iterate from 1 to 40\n",
    "2. Check if the remainder of ith is 3 and 5, print FizzBuzz\n",
    "2. Check if the remainder of ith is only 3, print Fizz\n",
    "3. Check if the remainder of ith is only 5, print Fizz\n",
    "4. if the ith is not the remainder of 3 or 5, print ith \n",
    "\n",
    "<br>\n",
    "End For loop"
   ]
  },
  {
   "cell_type": "code",
   "execution_count": 12,
   "id": "de2a532c",
   "metadata": {},
   "outputs": [
    {
     "name": "stdout",
     "output_type": "stream",
     "text": [
      "1\n",
      "2\n",
      "3 --> Fizz\n",
      "4\n",
      "5 --> Buzz\n",
      "6 --> Fizz\n",
      "7\n",
      "8\n",
      "9 --> Fizz\n",
      "10 --> Buzz\n",
      "11\n",
      "12 --> Fizz\n",
      "13\n",
      "14\n",
      "15 --> FizzBuzz\n",
      "16\n",
      "17\n",
      "18 --> Fizz\n",
      "19\n",
      "20 --> Buzz\n",
      "21 --> Fizz\n",
      "22\n",
      "23\n",
      "24 --> Fizz\n",
      "25 --> Buzz\n",
      "26\n",
      "27 --> Fizz\n",
      "28\n",
      "29\n",
      "30 --> FizzBuzz\n",
      "31\n",
      "32\n",
      "33 --> Fizz\n",
      "34\n",
      "35 --> Buzz\n",
      "36 --> Fizz\n",
      "37\n",
      "38\n",
      "39 --> Fizz\n"
     ]
    }
   ],
   "source": [
    "for i in range(1, 40):\n",
    "    if i % 3 == 0 and i % 5 == 0:\n",
    "        print(f'{i} --> FizzBuzz')\n",
    "    elif i % 3 == 0:\n",
    "        print(f'{i} --> Fizz')\n",
    "    elif i % 5 == 0:\n",
    "        print(f'{i} --> Buzz')\n",
    "    else:\n",
    "        print(i)"
   ]
  },
  {
   "cell_type": "code",
   "execution_count": null,
   "id": "ea19169c",
   "metadata": {},
   "outputs": [],
   "source": []
  }
 ],
 "metadata": {
  "kernelspec": {
   "display_name": "Python 3 (ipykernel)",
   "language": "python",
   "name": "python3"
  },
  "language_info": {
   "codemirror_mode": {
    "name": "ipython",
    "version": 3
   },
   "file_extension": ".py",
   "mimetype": "text/x-python",
   "name": "python",
   "nbconvert_exporter": "python",
   "pygments_lexer": "ipython3",
   "version": "3.7.9"
  }
 },
 "nbformat": 4,
 "nbformat_minor": 5
}
