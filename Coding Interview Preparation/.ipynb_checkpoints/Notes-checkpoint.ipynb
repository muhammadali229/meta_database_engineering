{
 "cells": [
  {
   "cell_type": "markdown",
   "id": "2a0db24c",
   "metadata": {},
   "source": [
    "## O(1)\n",
    "You use a constant time algorithm that takes O(1) (O-of-one) time to compute. This determines that it will only take one computation to complete a task. An example of this is to print an item from an array. "
   ]
  },
  {
   "cell_type": "code",
   "execution_count": 1,
   "id": "8683296a",
   "metadata": {},
   "outputs": [
    {
     "name": "stdout",
     "output_type": "stream",
     "text": [
      "3\n"
     ]
    }
   ],
   "source": [
    "# An array with 5 numbers \n",
    "array = [0,1,2,3,4]\n",
    "\n",
    "# retrieve the number found at index location 3 \n",
    "print(array[3]) "
   ]
  },
  {
   "cell_type": "markdown",
   "id": "c1c872be",
   "metadata": {},
   "source": [
    "## O(n)\n",
    "Next, let's explore an example of O(n). Taking the same array, an if statement is written that looks for the number 5. To establish that 5 is not there, it has to check every item in the array. "
   ]
  },
  {
   "cell_type": "code",
   "execution_count": 2,
   "id": "16476113",
   "metadata": {},
   "outputs": [],
   "source": [
    "# An array with 5 numbers \n",
    "array = [0,1,2,3,4] \n",
    "\n",
    "if 5 in array:\n",
    "    print(\"five is alive\")"
   ]
  },
  {
   "cell_type": "markdown",
   "id": "793bbe5a",
   "metadata": {},
   "source": [
    "In the above example, there is no 5, so there is no printout. To establish this, five checks were made on this array. As the input n = 5, this code is said to have a Big – O of O(n). To better understand this, let's extend the array to 10, leaving out the 5. "
   ]
  },
  {
   "cell_type": "code",
   "execution_count": 3,
   "id": "3ad14a18",
   "metadata": {},
   "outputs": [],
   "source": [
    "# an array with 10 numbers \n",
    "array = [0,1,2,3,4,6,7,8,9,10]\n",
    "\n",
    "if 5 in array:\n",
    "    print(\"five is still alive\")"
   ]
  },
  {
   "cell_type": "markdown",
   "id": "9d5ab5c5",
   "metadata": {},
   "source": [
    "By extending the array 10 integers, the number of computations has now become 10. This is still called O(n) because the input size is 10, which is how many checks must be made before the program ends. "
   ]
  },
  {
   "cell_type": "markdown",
   "id": "93a09f94",
   "metadata": {},
   "source": [
    "## O(log n) \n",
    "This search is less intensive than O(n) but more work than O(1). O(log n) is a logarithmic search and it will increase as new inputs are added but these inputs only offer marginal increases. An excellent example of this in action is a binary search. Binary search is covered in more detail later in the course. \n",
    "\n",
    "Now, imagine playing a guessing game with the following prompts: too high, too low, or correct. You are given a range of 100 to 1. You may decide to approach the problem systematically. First, you guess 50 – too high. So, you guess 25 – which is too high. You may choose then to go 12 or 13. What is happening here is that you are halving the search space with each guess. \n",
    "\n",
    "So, while the input to this function was 100 using a binary search approach, you should come upon the answer in under 5 or 6 guesses. This solution would have a time complexity of O(log n). Even if n (the range of numbers entered) is ten times bigger. It will not take ten times as many guesses. "
   ]
  },
  {
   "cell_type": "code",
   "execution_count": 4,
   "id": "fdfdc4d4",
   "metadata": {},
   "outputs": [
    {
     "name": "stdout",
     "output_type": "stream",
     "text": [
      "##Step One\n",
      "Array\n",
      "[0, 1, 2, 3, 4, 6, 7, 8, 9, 10]\n",
      "the midpoint at step one is:  6\n",
      "\n",
      "##Step Two\n",
      "Array\n",
      "[0, 1, 2, 3, 4]\n",
      "the midpoint is:  2\n",
      "\n",
      "##Step Three\n",
      "[2, 3, 4]\n",
      "the midpoint is:  3\n",
      "\n",
      "##Step Four\n",
      "[3, 4]\n",
      "\n",
      "##Step Five\n",
      "[4]\n",
      "only one value to check and it is not 5\n"
     ]
    }
   ],
   "source": [
    "array = [0,1,2,3,4,6,7,8,9,10]\n",
    "\n",
    "print(\"##Step One\")\n",
    "print(\"Array\")\n",
    "print(array)\n",
    "midpoint = int(len(array)/2)\n",
    "print(\"the midpoint at step one is: \" , array[midpoint])\n",
    "\n",
    "print()\n",
    "\n",
    "print(\"##Step Two\")\n",
    "array = array[:midpoint] # 6 is the midpoint of the array \n",
    "print(\"Array\")\n",
    "print(array)\n",
    "# running this shows the numbers left to check \n",
    "# is 5 < 3 \n",
    "# no \n",
    "# so discard the left hand side \n",
    "\n",
    "# so the array is halved again \n",
    "midpoint=int(len(array)/2)\n",
    "print(\"the midpoint is: \",  array[midpoint])\n",
    "\n",
    "print()\n",
    "print(\"##Step Three\") \n",
    "array = array[midpoint:] # so the array is halved at the midpoint\n",
    "print(array)\n",
    "# check for the midpoint \n",
    "midpoint=int(len(array)/2)\n",
    "print(\"the midpoint is: \" , array[midpoint])\n",
    "# is 4 < 5 \n",
    "# yes look to the right\n",
    "\n",
    "print()\n",
    "print(\"##Step Four\") \n",
    "print(array[midpoint:]) \n",
    "# check for the midpoint \n",
    "array = array[midpoint:] # so the array is halved at the midpoint\n",
    "midpoint=int(len(array)/2)\n",
    "\n",
    "print()\n",
    "print(\"##Step Five\") \n",
    "array = array[midpoint:] \n",
    "print(array)\n",
    "print(\"only one value to check and it is not 5\")"
   ]
  },
  {
   "cell_type": "markdown",
   "id": "d7dd4460",
   "metadata": {},
   "source": [
    "You will notice that to determine if 5 is present, it took 5 steps. That is a big-O score of O(5). You can see that this is bigger than O(1) but smaller than O(n). Now, what happens when the array is extended to 100? When looking for a number in an array of 10, it took 5 guesses. Looking at an array of 100 will not take 50 guesses; it will take no more than 10. Equally, if the list is extended to 1000, the guesses will only go up to 15-20. \n",
    "\n",
    "From this, we can see that it is not O(1) because the answer is not immediate. It is not big-O(n) because the number of guesses does not go up with the size n of the array. So here, one says that the complexity is O(log(n)). \n",
    "\n",
    "To gain greater insight into how the log values are only a gradual rise, look at a log table up to 100,000,000. This lens shows that O(log n) incurs only a minimal processing cost. Running a binary search on an array with any n values will, in a worst-case scenario, always make the number of computations found in the log values column. \n",
    "\n"
   ]
  },
  {
   "cell_type": "markdown",
   "id": "6fad4d46",
   "metadata": {},
   "source": [
    "## O(n^2) \n",
    "Heavy on computation. This is quadratic complexity, meaning that the work is doubled for every element in the array. An excellent way to visualize this is to consider that you have a variety of arrays. In keeping with the earlier example, let's explore the following code: "
   ]
  },
  {
   "cell_type": "code",
   "execution_count": 5,
   "id": "f88ce8f9",
   "metadata": {},
   "outputs": [
    {
     "name": "stdout",
     "output_type": "stream",
     "text": [
      "25\n"
     ]
    }
   ],
   "source": [
    "new_array=[] # an array to hold all of the results \n",
    "# array with five numbers \n",
    "array = [0,1,2,3,4]\n",
    "for i in range(len(array)): # the array has five values, so this is n=5 \n",
    "    for j in range(len(array)): # still the same array so n = 5 \n",
    "        new_array.append(i*j) # every computation made is stored here \n",
    "\n",
    "print(len(new_array)) #how big is this new array ? "
   ]
  },
  {
   "cell_type": "markdown",
   "id": "ebfec0dd",
   "metadata": {},
   "source": [
    "The first loop will equal the number of elements input, n. The second loop will also look at the number of input elements, n. So, the overall complexity of running this approach can be said to be n*n which is n^2 (n-squared). To find out how many computations were made, you have to print out the number of times n was used in the loop as below. "
   ]
  },
  {
   "cell_type": "code",
   "execution_count": 6,
   "id": "a764598b",
   "metadata": {},
   "outputs": [
    {
     "name": "stdout",
     "output_type": "stream",
     "text": [
      "25\n"
     ]
    }
   ],
   "source": [
    "n = 5 #size of array \n",
    "print(n*n) # how big is this new array ? "
   ]
  },
  {
   "cell_type": "markdown",
   "id": "96691db9",
   "metadata": {},
   "source": [
    "If you know that the array has 25 elements, then you understand the principles of calculating Big-O notation. To further test your knowledge, how many computations would be required if n = 6? Meaning the array had 6 values? The answer is 6 x 6 so 36. "
   ]
  },
  {
   "cell_type": "markdown",
   "id": "a4251c9b",
   "metadata": {},
   "source": [
    "As you can see, the best time to aim for is O(1); O(log n) is still excellent. O(n) is ok and O(n^2) is not great. \n",
    "\n",
    "## Worst case, best case and average case \n",
    "Of course, it is not always possible to tell how long an approach will take. When looking at the initial loop example, there was a search performed for an element that was absent. You can say that to search a loop takes O(n) times but this might not always be the case. \n",
    "\n",
    "Consider that the item being searched for is the first in the array. Then the return will be pretty good in O(1) time! In the example provided every item must be searched before determining that it was absent: O(n) time. The middle case would be that it is found around the middle of the loop O(n/2). When evaluating an approach, three definitions are used: best case, worst case and average case. "
   ]
  },
  {
   "cell_type": "code",
   "execution_count": null,
   "id": "d4999486",
   "metadata": {},
   "outputs": [],
   "source": []
  }
 ],
 "metadata": {
  "kernelspec": {
   "display_name": "Python 3 (ipykernel)",
   "language": "python",
   "name": "python3"
  },
  "language_info": {
   "codemirror_mode": {
    "name": "ipython",
    "version": 3
   },
   "file_extension": ".py",
   "mimetype": "text/x-python",
   "name": "python",
   "nbconvert_exporter": "python",
   "pygments_lexer": "ipython3",
   "version": "3.7.9"
  }
 },
 "nbformat": 4,
 "nbformat_minor": 5
}
