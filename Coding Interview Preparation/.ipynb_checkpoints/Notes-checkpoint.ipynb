{
 "cells": [
  {
   "cell_type": "markdown",
   "id": "2a0db24c",
   "metadata": {},
   "source": [
    "## O(1)\n",
    "You use a constant time algorithm that takes O(1) (O-of-one) time to compute. This determines that it will only take one computation to complete a task. An example of this is to print an item from an array. "
   ]
  },
  {
   "cell_type": "code",
   "execution_count": null,
   "id": "8683296a",
   "metadata": {},
   "outputs": [],
   "source": [
    "# An array with 5 numbers \n",
    "array = [0,1,2,3,4]\n",
    "\n",
    "# retrieve the number found at index location 3 \n",
    "print(array[3]) "
   ]
  },
  {
   "cell_type": "markdown",
   "id": "c1c872be",
   "metadata": {},
   "source": [
    "## O(n)\n",
    "Next, let's explore an example of O(n). Taking the same array, an if statement is written that looks for the number 5. To establish that 5 is not there, it has to check every item in the array. "
   ]
  },
  {
   "cell_type": "code",
   "execution_count": null,
   "id": "16476113",
   "metadata": {},
   "outputs": [],
   "source": [
    "# An array with 5 numbers \n",
    "array = [0,1,2,3,4] \n",
    "\n",
    "if 5 in array:\n",
    "    print(\"five is alive\")"
   ]
  },
  {
   "cell_type": "markdown",
   "id": "793bbe5a",
   "metadata": {},
   "source": [
    "In the above example, there is no 5, so there is no printout. To establish this, five checks were made on this array. As the input n = 5, this code is said to have a Big – O of O(n). To better understand this, let's extend the array to 10, leaving out the 5. "
   ]
  },
  {
   "cell_type": "code",
   "execution_count": null,
   "id": "3ad14a18",
   "metadata": {},
   "outputs": [],
   "source": [
    "# an array with 10 numbers \n",
    "array = [0,1,2,3,4,6,7,8,9,10]\n",
    "\n",
    "if 5 in array:\n",
    "    print(\"five is still alive\")"
   ]
  },
  {
   "cell_type": "markdown",
   "id": "9d5ab5c5",
   "metadata": {},
   "source": [
    "By extending the array 10 integers, the number of computations has now become 10. This is still called O(n) because the input size is 10, which is how many checks must be made before the program ends. "
   ]
  },
  {
   "cell_type": "markdown",
   "id": "93a09f94",
   "metadata": {},
   "source": [
    "## O(log n) \n",
    "This search is less intensive than O(n) but more work than O(1). O(log n) is a logarithmic search and it will increase as new inputs are added but these inputs only offer marginal increases. An excellent example of this in action is a binary search. Binary search is covered in more detail later in the course. \n",
    "\n",
    "Now, imagine playing a guessing game with the following prompts: too high, too low, or correct. You are given a range of 100 to 1. You may decide to approach the problem systematically. First, you guess 50 – too high. So, you guess 25 – which is too high. You may choose then to go 12 or 13. What is happening here is that you are halving the search space with each guess. \n",
    "\n",
    "So, while the input to this function was 100 using a binary search approach, you should come upon the answer in under 5 or 6 guesses. This solution would have a time complexity of O(log n). Even if n (the range of numbers entered) is ten times bigger. It will not take ten times as many guesses. "
   ]
  },
  {
   "cell_type": "code",
   "execution_count": null,
   "id": "fdfdc4d4",
   "metadata": {},
   "outputs": [],
   "source": [
    "array = [0,1,2,3,4,6,7,8,9,10]\n",
    "\n",
    "print(\"##Step One\")\n",
    "print(\"Array\")\n",
    "print(array)\n",
    "midpoint = int(len(array)/2)\n",
    "print(\"the midpoint at step one is: \" , array[midpoint])\n",
    "\n",
    "print()\n",
    "\n",
    "print(\"##Step Two\")\n",
    "array = array[:midpoint] # 6 is the midpoint of the array \n",
    "print(\"Array\")\n",
    "print(array)\n",
    "# running this shows the numbers left to check \n",
    "# is 5 < 3 \n",
    "# no \n",
    "# so discard the left hand side \n",
    "\n",
    "# so the array is halved again \n",
    "midpoint=int(len(array)/2)\n",
    "print(\"the midpoint is: \",  array[midpoint])\n",
    "\n",
    "print()\n",
    "print(\"##Step Three\") \n",
    "array = array[midpoint:] # so the array is halved at the midpoint\n",
    "print(array)\n",
    "# check for the midpoint \n",
    "midpoint=int(len(array)/2)\n",
    "print(\"the midpoint is: \" , array[midpoint])\n",
    "# is 4 < 5 \n",
    "# yes look to the right\n",
    "\n",
    "print()\n",
    "print(\"##Step Four\") \n",
    "print(array[midpoint:]) \n",
    "# check for the midpoint \n",
    "array = array[midpoint:] # so the array is halved at the midpoint\n",
    "midpoint=int(len(array)/2)\n",
    "\n",
    "print()\n",
    "print(\"##Step Five\") \n",
    "array = array[midpoint:] \n",
    "print(array)\n",
    "print(\"only one value to check and it is not 5\")"
   ]
  },
  {
   "cell_type": "markdown",
   "id": "d7dd4460",
   "metadata": {},
   "source": [
    "You will notice that to determine if 5 is present, it took 5 steps. That is a big-O score of O(5). You can see that this is bigger than O(1) but smaller than O(n). Now, what happens when the array is extended to 100? When looking for a number in an array of 10, it took 5 guesses. Looking at an array of 100 will not take 50 guesses; it will take no more than 10. Equally, if the list is extended to 1000, the guesses will only go up to 15-20. \n",
    "\n",
    "From this, we can see that it is not O(1) because the answer is not immediate. It is not big-O(n) because the number of guesses does not go up with the size n of the array. So here, one says that the complexity is O(log(n)). \n",
    "\n",
    "To gain greater insight into how the log values are only a gradual rise, look at a log table up to 100,000,000. This lens shows that O(log n) incurs only a minimal processing cost. Running a binary search on an array with any n values will, in a worst-case scenario, always make the number of computations found in the log values column. \n",
    "\n"
   ]
  },
  {
   "cell_type": "markdown",
   "id": "6fad4d46",
   "metadata": {},
   "source": [
    "## O(n^2) \n",
    "Heavy on computation. This is quadratic complexity, meaning that the work is doubled for every element in the array. An excellent way to visualize this is to consider that you have a variety of arrays. In keeping with the earlier example, let's explore the following code: "
   ]
  },
  {
   "cell_type": "code",
   "execution_count": null,
   "id": "f88ce8f9",
   "metadata": {},
   "outputs": [],
   "source": [
    "new_array=[] # an array to hold all of the results \n",
    "# array with five numbers \n",
    "array = [0,1,2,3,4]\n",
    "for i in range(len(array)): # the array has five values, so this is n=5 \n",
    "    for j in range(len(array)): # still the same array so n = 5 \n",
    "        new_array.append(i*j) # every computation made is stored here \n",
    "\n",
    "print(len(new_array)) #how big is this new array ? "
   ]
  },
  {
   "cell_type": "markdown",
   "id": "ebfec0dd",
   "metadata": {},
   "source": [
    "The first loop will equal the number of elements input, n. The second loop will also look at the number of input elements, n. So, the overall complexity of running this approach can be said to be n*n which is n^2 (n-squared). To find out how many computations were made, you have to print out the number of times n was used in the loop as below. "
   ]
  },
  {
   "cell_type": "code",
   "execution_count": null,
   "id": "a764598b",
   "metadata": {},
   "outputs": [],
   "source": [
    "n = 5 #size of array \n",
    "print(n*n) # how big is this new array ? "
   ]
  },
  {
   "cell_type": "markdown",
   "id": "96691db9",
   "metadata": {},
   "source": [
    "If you know that the array has 25 elements, then you understand the principles of calculating Big-O notation. To further test your knowledge, how many computations would be required if n = 6? Meaning the array had 6 values? The answer is 6 x 6 so 36. "
   ]
  },
  {
   "cell_type": "markdown",
   "id": "a4251c9b",
   "metadata": {},
   "source": [
    "As you can see, the best time to aim for is O(1); O(log n) is still excellent. O(n) is ok and O(n^2) is not great. \n",
    "\n",
    "## Worst case, best case and average case \n",
    "Of course, it is not always possible to tell how long an approach will take. When looking at the initial loop example, there was a search performed for an element that was absent. You can say that to search a loop takes O(n) times but this might not always be the case. \n",
    "\n",
    "Consider that the item being searched for is the first in the array. Then the return will be pretty good in O(1) time! In the example provided every item must be searched before determining that it was absent: O(n) time. The middle case would be that it is found around the middle of the loop O(n/2). When evaluating an approach, three definitions are used: best case, worst case and average case. "
   ]
  },
  {
   "cell_type": "markdown",
   "id": "842cc57d",
   "metadata": {},
   "source": [
    "## Sorting Algorithms"
   ]
  },
  {
   "cell_type": "markdown",
   "id": "6f038b29",
   "metadata": {},
   "source": [
    "### 1. Bubble Sort\n",
    "The time complexity is O(n)^2 (2 loops)\n",
    "<img src=\"./bubble-short.png\" alt=\"Bubble Sort\" />"
   ]
  },
  {
   "cell_type": "code",
   "execution_count": null,
   "id": "07bfb4a7",
   "metadata": {},
   "outputs": [],
   "source": [
    "# my solution \n",
    "def bubble_sort(lst):\n",
    "    for i in range(len(lst)):\n",
    "        for j in range(i + 1, len(lst)):\n",
    "            if lst[i] > lst[j]:\n",
    "                lst[j], lst[i] = lst[i], lst[j]\n",
    "    return lst\n",
    "print(bubble_sort([5,1,4,2,8]))\n",
    "print(bubble_sort([2,1,7,6,5,3,4,9,8]))"
   ]
  },
  {
   "cell_type": "code",
   "execution_count": null,
   "id": "7a39c2c6",
   "metadata": {},
   "outputs": [],
   "source": [
    "def bubble_sort2(lst):\n",
    "    for i in range(len(lst) - 1):\n",
    "#         print(lst[: len(lst) - 1])\n",
    "#         print(lst[: len(lst) - i - 1])\n",
    "        for j in range(len(lst) - i - 1):\n",
    "#             print(lst)\n",
    "#             print(lst[j], lst[j + 1])\n",
    "            if lst[j] > lst[j + 1]:\n",
    "                lst[j], lst[j + 1] = lst[j + 1], lst[j]\n",
    "#         print()\n",
    "    return lst\n",
    "print(bubble_sort2([2,1,7,6,5,3,4,9,8]))\n",
    "print(bubble_sort2([2,1,7,6,5,3,4,9,8])[::-1]) # desc"
   ]
  },
  {
   "cell_type": "markdown",
   "id": "c84eccbc",
   "metadata": {},
   "source": [
    "### 2. Selection Sort\n",
    "Selection sort is a sorting algorithm that works from a very simple principle. Take an array to items and iterate from left to right. Starting with the first place on the index, iterate over the entire array and swap this value with the lowest value found to the right of this item. Repeat until the entire array is sorted. \n",
    "\n",
    "Selection sort has: \n",
    "\n",
    "Worst case time complexity is O(N^2)\n",
    "\n",
    "Average case time complexity is O(N^2)\n",
    "\n",
    "Best case time complexity is O(N^2)\n",
    "\n",
    "Space complexity: O(1) Auxiliary.\n",
    "\n",
    "To perform selection sort, take the following steps:\n",
    "\n",
    "Find the smallest value and swap it with the first value of the array \n",
    "\n",
    "Find the second smallest value and swap it with the second place in the array \n",
    "\n",
    "Repeat until all items are changed from ordered from smallest to largest\n",
    "\n",
    "Time complexity is determined in relation to the number of transactions enacted. Given a list of size n, the compiler must search each entry in the list to identify the smallest item, then perform a swap to index location 0. The pseudocode for the algorithm is as below. \n",
    "\n",
    "<img src=\"./selection-sort.png\" alt=\"Selection Sort\" width=\"350\" height=\"300\" />"
   ]
  },
  {
   "cell_type": "code",
   "execution_count": null,
   "id": "759423ee",
   "metadata": {},
   "outputs": [],
   "source": [
    "# for(i = 0; i < n-1; i++)\n",
    "# int min_index = i\n",
    "#     for(j = i+1; j < n; j++)\n",
    "#         if(List[j] < List[min_index])\n",
    "#             min_index=j \n",
    "#     swap(List[i], List[min_index])"
   ]
  },
  {
   "cell_type": "markdown",
   "id": "bb4481c4",
   "metadata": {},
   "source": [
    "Line 1 says that the length of the list List must be searched n-1 times. Line 2 sets a temporary variable to hold the lowest value. Line 3 is an inner loop that must iterate through the loop n-1 times. Line 4 checks if the value found in position List[j] is smaller than the current lowest value. If so, the position of that element is recorded. At the end of each inner loop, the value found to be the lowest is swapped with position i in the index, i is incremented and the procedure begins again. Always check the next item in the list until every item has been checked. \n",
    "\n",
    "There are four considerations to be made when evaluating this algorithm. \n",
    "\n",
    "Worst case scenario: Given a list sorted in reverse order, how many comparisons are made? The inner and outer loop will have to run n times so it can be determined that worst case = O(n^2).\n",
    "\n",
    "Average comparison: Regardless of the order of the list, every item must be checked against average case = O(n^2). \n",
    "\n",
    "Best comparison: Given a sorted list of how many comparisons must be made. Again, regardless of the items in the list, every item must be checked, so best case = O(n^2).\n",
    "\n",
    "Finally, what is the space complexity of this approach? Because an in-place swap is being performed, no temporary array is required. There are three temporary variables i, j and min_index; however, these are not dependent on the list size. So, the image doubles the list, and the space complexity does not increase accordingly. Therefore, space complexity = O(1). "
   ]
  },
  {
   "cell_type": "code",
   "execution_count": null,
   "id": "dd12fffd",
   "metadata": {},
   "outputs": [],
   "source": [
    "# My Solution\n",
    "def selection_sort(lst):\n",
    "    for i in range(len(lst)):\n",
    "        min_val = min(lst[i:])\n",
    "        lst[lst.index(min_val)], lst[i] = lst[i], lst[lst.index(min_val)]\n",
    "    return lst\n",
    "print(selection_sort([5,1,4,2,8]))\n",
    "print(selection_sort([2,1,7,6,5,3,4,9,8]))"
   ]
  },
  {
   "cell_type": "code",
   "execution_count": null,
   "id": "bdb5aaf0",
   "metadata": {},
   "outputs": [],
   "source": [
    "# Solution with min_function\n",
    "def selection_sort2(lst):\n",
    "    for i in range(len(lst)):\n",
    "        min_index = i\n",
    "        for j in range(i + 1, len(lst)):\n",
    "            if lst[j] < lst[min_index]: # for descending lst[j] > lst[min_index]\n",
    "                min_index = j\n",
    "        lst[i], lst[min_index] = lst[min_index], lst[i]\n",
    "    return lst\n",
    "print(selection_sort2([22,13,64,12,33]))\n",
    "print(selection_sort2([5,1,4,2,8]))\n",
    "print(selection_sort2([2,1,7,6,5,3,4,9,8]))"
   ]
  },
  {
   "cell_type": "markdown",
   "id": "9662e4e7",
   "metadata": {},
   "source": [
    "### 3. Insertion Sort\n",
    "The time complexity is O(n)^2 (2 loops) \n",
    "<img src=\"./Frame 4_0.png\" alt=\"Unsorted Insertion Sort\" width=300 height=300/>\n",
    "<img src=\"./Insertion-sort-0_1.png\" alt=\"First Step Insertion Sort\" width=300 height=300/>\n",
    "<img src=\"./Insertion-sort-1_1.png\" alt=\"Second Step Insertion Sort\" width=300 height=300/>\n",
    "<img src=\"./Insertion-sort-2_2.png\" alt=\"Third Step Insertion Sort\" width=300 height=300/>\n",
    "<img src=\"./Insertion-sort-3_2.png\" alt=\"Fourth Step Insertion Sort\" width=300 height=300/>"
   ]
  },
  {
   "cell_type": "code",
   "execution_count": null,
   "id": "bc5b12f8",
   "metadata": {},
   "outputs": [],
   "source": [
    "def insertion_sort(lst):\n",
    "    for i in range(1, len(lst)): # nxt_element 1st\n",
    "        key = lst[i]\n",
    "#         print(key)\n",
    "        j = i - 1\n",
    "#         print('j', j)\n",
    "#         print(lst[j])\n",
    "#         print('key:',key, 'lst[j]:', lst[j])\n",
    "        while j >= 0 and key < lst[j]: # for descending do, key > lst[j]\n",
    "#             print(lst)\n",
    "#             print('lst[j+1]=', lst[j + 1], 'lst[j]=', lst[j])\n",
    "            lst[j + 1] = lst[j]\n",
    "#             print(lst)\n",
    "            j -= 1\n",
    "#         print('lst[j+1]:',lst[j+1], 'key:',key)\n",
    "        lst[j + 1] = key\n",
    "#         print(lst)\n",
    "#         print()\n",
    "    return lst\n",
    "print(insertion_sort([9,5,1,4,3]))\n",
    "print(insertion_sort([22,13,64,12,33]))\n",
    "print(insertion_sort([5,1,4,2,8]))\n",
    "print(insertion_sort([2,1,7,6,5,3,4,9,8]))"
   ]
  },
  {
   "cell_type": "markdown",
   "id": "b3736614",
   "metadata": {},
   "source": [
    "### 4. Quick Sort\n",
    "Quicksort\n",
    "Quicksort is a sorting approach that uses a divide-and-conquer methodology. Given an array of items, a place is determined on the array on which to split the array and this is called the pivot point. All values greater than this point go to the right and all values less than this point go to the left. In this step, you have two arrays. The same process is applied to these arrays until there are no elements left to sort. \n",
    "\n",
    "Quicksort has: \n",
    "\n",
    "Worst case time complexity O(n^2)\n",
    "\n",
    "Average case time complexity O(n log n)\n",
    "\n",
    "Best case time complexity O(n log n) \n",
    "\n",
    "Space complexity O(n)\n",
    "\n",
    "\n",
    "To perform quicksort, take the following steps: \n",
    "\n",
    "Select a point on the list to pivot on. \n",
    "\n",
    "Split the list into two lists, items to the left of the pivot and items to the right. \n",
    "\n",
    "Set variables i to iterate from left to right on the left of the pivot. Set variable j to repeat from right to left on the left side of the pivot.\n",
    "\n",
    "The variables i on the left look for a value greater than or equal to the pivot. Variables j on the right look for a value less than or equal to the pivot.  \n",
    "\n",
    "When j < i, the values at these index locations are swapped, this is repeated until i and j meet at the pivot point. \n",
    "\n",
    "Partition the list values into two lists, one to the left and one to the right of the pivot. Repeat the process on each of the resulting arrays. \n",
    "\n",
    "Recursively apply the algorithm. \n",
    "\n",
    " \n",
    "\n",
    "The pseudocode below for quicksort is done recursively.\n",
    "\n",
    "1 Starting at the leftmost element, each subsequent element is checked, and if it is found to be less, it is swapped. \n",
    "\n",
    "2 Line 3 calls the partition method, which begins on line 8. \n",
    "\n",
    "3 Line 10 determines the more significant element to be placed on the right side of the list. Line 10 sets a variable i to be assigned to the index of the smaller element. The variable j is then used to check the elements to the right from which to make a comparison with the current smallest element. \n",
    "\n",
    "4 Line 12 determines if there is to be a swap, a smaller element on the right will require moving to the current index position. 5 Line 4 is for sorting the left array. \n",
    "\n",
    "6 Line 5 is for sorting the right array. At each iteration, the size of the array to be sorted is halved. The arrays will continually break down until only one element is left in the subarrays. The result of calling partition will determine the location of the current element. This location is incremented and repeated until every element rests in its naturally ordered position."
   ]
  },
  {
   "cell_type": "code",
   "execution_count": null,
   "id": "ccf1e526",
   "metadata": {},
   "outputs": [],
   "source": [
    "# QuickSort(List, low, high)\n",
    "#         if(low<high) \n",
    "# \tpivot=partition(List, high, low)\n",
    "# \tQuickSort(List, how, pivot-1)\n",
    "# \tQuickSort(List, pivot+1, high) \n",
    "\n",
    "# Partition(List,high,low)\n",
    "#         pivot=arr[high]\n",
    "#         i=(low-1)\n",
    "#         for j = low; j <= high-1; j++) \n",
    "# \tif(List[j] < pivot)\n",
    "# \t        i++\n",
    "# \t        swap(List[i], List[j]) \n",
    "#         swap(arr[i+1], List[j]) \n",
    "#         return I + 1 "
   ]
  },
  {
   "cell_type": "code",
   "execution_count": null,
   "id": "5297abc2",
   "metadata": {},
   "outputs": [],
   "source": [
    "# 3 5 8 1 2 9 4 7 6\n",
    "# l             r p check l to right if its greater stop, check r to left if its less than stop\n",
    "# 3 5 8 1 2 9 4 7 6\n",
    "#     l       r   p now swap l and r\n",
    "# 3 5 4 1 2 9 8 7 6 \n",
    "#     l       r   p check l to right if its greater stop, check r to left if its less than stop\n",
    "# 3 5 4 1 2 9 8 7 6\n",
    "#           l r   p if r moves to left it collide with l so swap it with p\n",
    "# 3 5 4 1 2 6 8 7 9\n",
    "# ----------------------------------------------------- phase 1 complete 6 is completely sorted\n",
    "# 3 5 4 1 2\n",
    "# l     r p check l to right if its greater stop, check r to left if its less than stop\n",
    "# 1 5 4 3 2 now swap l and r\n",
    "# l     r p check l to right if its greater stop, check r to left if its less than stop\n",
    "# 1 5 4 3 2\n",
    "#   l   r p r collide with l while checking if its less than p\n",
    "# 1 2 4 3 5\n",
    "# ----------------------------------------------------- 2 is completely sorted\n",
    "# 1 is only 1 element so it's completely sorted\n",
    "# -----------------------------------------------------\n",
    "# 4 3 5\n",
    "# l r p check l to right if its greater stop, check r to left if its less than stop\n",
    "# 4 3   5\n",
    "#   r  p/l\n",
    "# ----------------------------------------------------- 5 is completey sorted\n",
    "#  4    3\n",
    "# l/r   p swap because of l and r collide\n",
    "# 3 4\n",
    "# ----------------------------------------------------- 3 is completey sorted\n",
    "# 4\n",
    "# 4 is only 1 element so it's completely sorted\n",
    "# -----------------------------------------------------------------------------------------------------------\n",
    "# 8 7 9\n",
    "# l r p check l to right if its greater stop, check r to left if its less than stop\n",
    "# 8 7   9\n",
    "#   r  l/p\n",
    "# ----------------------------------------------------- 9 is completey sorted\n",
    "#  8   7 \n",
    "# l/r  p p swap because of l and r collide\n",
    "# 7 8\n",
    "# ----------------------------------------------------- 7 is completey sorted\n",
    "# 8\n",
    "# 8 is only 1 element so it's completely sorted\n",
    "# -----------------------------------------------------------------------------------------------------------\n",
    "# 1 2 3 4 5 6 7 8 9"
   ]
  },
  {
   "cell_type": "code",
   "execution_count": null,
   "id": "35ded983",
   "metadata": {},
   "outputs": [],
   "source": [
    "def partition(lst, low, high):\n",
    "    i = low - 1\n",
    "    pivot = lst[high]\n",
    "    print(lst)\n",
    "    print(f'low: {low}, high: {high}')\n",
    "    print(f'Pivot: {pivot}\\nlow: {lst[low]}\\nhigh: {lst[high]}\\nlist_i: {lst[i]}')\n",
    "    for j in range(low, high):\n",
    "        print(f'lst[j]: {lst[j]} <= pivot: {pivot} --> {lst[j] <= pivot}')\n",
    "        if lst[j] <= pivot:\n",
    "            i += 1\n",
    "            lst[i], lst[j] = lst[j], lst[i]\n",
    "            print(f'list swap inner: {lst}')\n",
    "    print(f'list[i+1]: {lst[i + 1]} swap list[high]: {lst[high]}')\n",
    "    lst[i + 1], lst[high] = lst[high], lst[i + 1] \n",
    "    print(f'list swap outer: {lst}')\n",
    "    return (i + 1)\n",
    "def quick_sort(lst, low, high):\n",
    "    print('Çall')\n",
    "    if low < high:\n",
    "        pi = partition(lst, low, high)\n",
    "        print(f'Pi index: {pi}')\n",
    "        print(f'list change after pivot: {lst}')\n",
    "        quick_sort(lst, low, pi - 1)\n",
    "        quick_sort(lst, pi + 1, high)\n",
    "clst = [9,5,1]\n",
    "quick_sort(clst, 0, len(clst) - 1)\n",
    "print(clst)"
   ]
  },
  {
   "cell_type": "code",
   "execution_count": null,
   "id": "b3ffd28f",
   "metadata": {},
   "outputs": [],
   "source": [
    "def quick_sort2(lst):\n",
    "    if len(lst) < 2:\n",
    "        return lst\n",
    "    pivot = lst[-1]\n",
    "    left = [x for x in lst[:len(lst) - 1] if x < pivot]\n",
    "#     print(left)\n",
    "    right = [x for x in lst[:len(lst) - 1] if x >= pivot]\n",
    "#     print(right)\n",
    "    return quick_sort2(left) + [pivot] + quick_sort2(right)\n",
    "print(quick_sort2([2,1,7,6,5,3,4,9,8]))"
   ]
  },
  {
   "cell_type": "markdown",
   "id": "461f6ce0",
   "metadata": {},
   "source": [
    "## Searching Algorithms"
   ]
  },
  {
   "cell_type": "markdown",
   "id": "de2d638e",
   "metadata": {},
   "source": [
    "## 1. Linear Search\n",
    "A linear search is the most direct way of retrieving an item. It means that the search starts at the first item and iterates until either the target item is found or there are no more items left in the array to check. \n",
    "\n",
    "Given a list of numbers, start at index location 0 and compare each item with a target variable. Return when the index location has been determined or the entire list has been checked and there is no instance of the target element.\n",
    "<img src=\"./linear_search.png\" alt=\"Liear Search\"/>\n",
    "These are the outcomes to consider when evaluating the efficacy of the search. \n",
    "\n",
    "Worst case: The item is absent from the list. To determine this, every possible location in the list size n has to be searched. O(n) time complexity.\n",
    "\n",
    "Average case: The element is found in the middle. This is considered an outcome of O(n).\n",
    "\n",
    "Best case: The item is found at the starting index and no further checks are required, so O(1).\n",
    "\n",
    "Space complexity: No additional space is required to perform the search. So, the space required will only be as large as the items that have to be stored in the list, space complexity O(n).\n",
    "\n",
    "PseudoCode:\n",
    "1. Create a Function with two parameters, one is a list and second is a searching value\n",
    "2. Iterate through the list\n",
    "3. Check if the searching value is equal to the current item of the list\n",
    "4. Its searching value is found return the index of list\n",
    "5. If not return -1"
   ]
  },
  {
   "cell_type": "code",
   "execution_count": null,
   "id": "9e4a426d",
   "metadata": {},
   "outputs": [],
   "source": [
    "def linear_search(lst, value):\n",
    "    for i in range(len(lst)):\n",
    "        if lst[i] == value:\n",
    "            return i\n",
    "    return -1\n",
    "print(linear_search([20, 40, 30, 50, 90], 50))\n",
    "print(linear_search([20, 40, 30, 50, 90], 21))"
   ]
  },
  {
   "cell_type": "markdown",
   "id": "24d7ac71",
   "metadata": {},
   "source": [
    "## 2. Binary search\n",
    "A binary search is performed by first identifying the mid-point on a sorted list, comparing the target element to it and discarding the half that is less than the target element. This halving at the mid-point is repeated until the target element is found or there is no more list to half. \n",
    "\n",
    "To conduct a binary search, the list must first be sorted. \n",
    "\n",
    "<img src=\"./binary_search1.png\" alt=\"Binary Search1\"/>\n",
    "First, a middle point is selected. The value at index 3, is 15. Is this greater than or less than the target element? The search space is broken in two and the left is further examined. \n",
    "<img src=\"./binary_search2.png\" alt=\"Binary Search2\"/>\n",
    "A new central point is selected. This time there are only three slots to check; index location 1 is at the halfway point. \n",
    "<img src=\"./binary_search3.png\" alt=\"Binary Search3\"/>\n",
    "The target value is found here and no further splits are required. \n",
    "\n",
    "These are the outcomes to consider when evaluating the efficacy of the search: \n",
    "\n",
    "Worst case: The item is absent from the list. Due to the nature of the approach, many items are removed with the use of the logical operators greater than and less than. This means that only n/2 is checked first, then n/4 and n/8. The overall complexity is then O(log N).  \n",
    "\n",
    "Average case: The element is found after several iterations. Again due to the search mechanism, each subsequent call reduces the state space. So, it can be determined that after a medium number of searches, the complexity is O(Log N). \n",
    "\n",
    "Best case: The item is found at the starting index and no further checks are required, so O(1).\n",
    "\n",
    "Space complexity: No additional space is required to perform the search. So, the space required will only be as large as the items to be stored in the list, space complexity O(n).\n",
    "\n",
    "Pseudocode:\n",
    "1. Create a function with 2 parameters, one is sorted list and the other is search value\n",
    "2. Create 2 pointers 1 is left which is start of the list and 2 is right which is end of the list\n",
    "3. Calculate middle point pointer using left and right pointer\n",
    "4. Iterate through the items till middle point not equal to the value and start <= end loop<br>\n",
    "   4.1 If middle is greater than the value decrease right value by 1<br>\n",
    "   4.2 if middle is less than the value increase left value by 1\n",
    "5. If value is not found, return -1"
   ]
  },
  {
   "cell_type": "code",
   "execution_count": null,
   "id": "843de2db",
   "metadata": {},
   "outputs": [],
   "source": [
    "def binary_search(lst, value):\n",
    "    left = 0\n",
    "    right = len(lst) - 1\n",
    "    middle = (left + right) // 2\n",
    "    while lst[middle] != value and left <= right:\n",
    "        if lst[middle] > value:\n",
    "            right -= 1\n",
    "        else:\n",
    "            left += 1\n",
    "        middle = (left + right) // 2\n",
    "    if lst[middle] == value:\n",
    "        return middle\n",
    "    return -1\n",
    "print(binary_search([1, 2, 3, 4, 5, 6, 7, 8, 9], 6))\n",
    "print(binary_search([1, 2, 3, 4, 5, 6, 7, 8, 9], 13))"
   ]
  },
  {
   "cell_type": "markdown",
   "id": "693764bb",
   "metadata": {},
   "source": [
    "## Divide and Conquer Algorithm\n",
    "It encompasses two principles discussed in this module, namely, recursion and breaking problems down into smaller problems.\n",
    "The algorithm comprises two steps with an optional third, namely, divide and conquer, which are the mandatory steps and combine, which is an optional step. In the divide step, the input is split into smaller segments and processed individually. In the conquer step, every task associated with a given segment is solved. The optional last step, combine, is combining all the solved segments. \n",
    "\n",
    "<img src=\"./divide_conquer_fib(6).PNG\" alt=\"Divide and Conquer Fib(6)\"/>"
   ]
  },
  {
   "cell_type": "code",
   "execution_count": 49,
   "id": "ab7bdfaa",
   "metadata": {},
   "outputs": [
    {
     "data": {
      "text/plain": [
       "[0, 1, 1, 2, 3, 5, 8]"
      ]
     },
     "execution_count": 49,
     "metadata": {},
     "output_type": "execute_result"
    }
   ],
   "source": [
    "# Fibonacci Series\n",
    "# Eg: 0,1,1,2,3,5,8,13,21,34...\n",
    "# Fibonacci(n) = Fibonacci(n-1) + Fibonacci(n-2)\n",
    "\n",
    "# fib(2) -> 1 fib(2), fib(1) -> 1\n",
    "# fIb(3) -> 2\n",
    "# fib(4) -> 3\n",
    "# fib(5) -> 5\n",
    "# fib(6) = fib(5) + fib(4) = 5 + 3, fib(6) = ¾\n",
    "def fibonacci(n):\n",
    "    if n < 0:\n",
    "        return 'Not work with negative numbers'\n",
    "    elif n == 0:\n",
    "        return 0\n",
    "    elif n <= 2:\n",
    "        return 1\n",
    "    return fibonacci(n - 1) + fibonacci(n-2) \n",
    "n = 6\n",
    "[fibonacci(i) for i in range(n+1)]"
   ]
  },
  {
   "cell_type": "markdown",
   "id": "7bbe8a43",
   "metadata": {},
   "source": [
    "## Recursion\n",
    "Recursion is when a function calls itself with a smaller instance of a problem repeatedly until some exit condition is met.\n",
    "There are three requirements for implementing a recursive solution, namely the base case, the diminishing structure, and the recursive call. "
   ]
  },
  {
   "cell_type": "code",
   "execution_count": 52,
   "id": "3be871e6",
   "metadata": {},
   "outputs": [
    {
     "name": "stdout",
     "output_type": "stream",
     "text": [
      "120\n"
     ]
    }
   ],
   "source": [
    "# 5 * factorial(4)\n",
    "# 5 * 4 * factorial(3)\n",
    "# 5 * 4 * 3 * factorial(2)\n",
    "# 5 * 4 * 3 * 2 * factorial(1)\n",
    "# 5 * 4 * 3 * 2 * 1\n",
    "def factorial(num):\n",
    "    if num <= 1:\n",
    "        return 1\n",
    "    return num * factorial(num-1)\n",
    "print(factorial(5)) # 5 * 4 * 3 * 2 * 1"
   ]
  }
 ],
 "metadata": {
  "kernelspec": {
   "display_name": "Python 3 (ipykernel)",
   "language": "python",
   "name": "python3"
  },
  "language_info": {
   "codemirror_mode": {
    "name": "ipython",
    "version": 3
   },
   "file_extension": ".py",
   "mimetype": "text/x-python",
   "name": "python",
   "nbconvert_exporter": "python",
   "pygments_lexer": "ipython3",
   "version": "3.7.9"
  }
 },
 "nbformat": 4,
 "nbformat_minor": 5
}
