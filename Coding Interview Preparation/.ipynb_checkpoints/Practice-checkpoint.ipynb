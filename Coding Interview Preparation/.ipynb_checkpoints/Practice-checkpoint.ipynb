{
 "cells": [
  {
   "cell_type": "markdown",
   "id": "b3c69367",
   "metadata": {},
   "source": [
    "# Q1. Colors and Socks\n",
    "\n",
    "You are given an array that represents sock colors. Yellow socks are represented by one, blue socks by two, red socks by three, green socks by four, and lastly, orange socks by five. Sock colors equal the numbers as explained, namely 1,2,2,1,1,3,5,1,4, and 4. Determine how many pairs of the same color socks exist? There are four 1's which equates to two pairs of yellow socks, three and five represent odd socks. Although it is a red and orange sock, they don't have matching socks to form pairs. There are two 2's and two 4's, which each represent a pair of blue and green socks. To solve this problem succinctly, you can utilize an appropriate data structure."
   ]
  },
  {
   "cell_type": "code",
   "execution_count": null,
   "id": "9d3f2bb0",
   "metadata": {},
   "outputs": [],
   "source": [
    "socks_dct = {}\n",
    "socks_lst = [3,3,2,1,1,3,5,1,4,2]\n",
    "for i in socks_lst:\n",
    "    if i not in socks_dct:\n",
    "        socks_dct[i] = 1\n",
    "    else:\n",
    "        socks_dct[i] += 1\n",
    "print(socks_dct)\n",
    "for i, v in socks_dct.items():\n",
    "    if v % 2 == 0:\n",
    "        print(i, v // 2) # 2 pairs"
   ]
  },
  {
   "cell_type": "markdown",
   "id": "81c90550",
   "metadata": {},
   "source": [
    "# Q2. Fizz Buzz\n",
    "Write a program in a given language that iterates over numbers 1 to 40. Print out a number for every number except multiples of three, in which case output Fizz. For multiples of five, output Buzz, and for multiples of 3 and 5 output FizzBuzz. \n",
    "\n",
    "### Pseudocode\n",
    "Start For loop\n",
    "1. Iterate from 1 to 40\n",
    "2. Check if the remainder of ith is 3 and 5, print FizzBuzz\n",
    "2. Check if the remainder of ith is only 3, print Fizz\n",
    "3. Check if the remainder of ith is only 5, print Fizz\n",
    "4. if the ith is not the remainder of 3 or 5, print ith \n",
    "\n",
    "<br>\n",
    "End For loop"
   ]
  },
  {
   "cell_type": "code",
   "execution_count": null,
   "id": "de2a532c",
   "metadata": {},
   "outputs": [],
   "source": [
    "for i in range(1, 40):\n",
    "    if i % 3 == 0 and i % 5 == 0:\n",
    "        print(f'{i} --> FizzBuzz')\n",
    "    elif i % 3 == 0:\n",
    "        print(f'{i} --> Fizz')\n",
    "    elif i % 5 == 0:\n",
    "        print(f'{i} --> Buzz')\n",
    "    else:\n",
    "        print(i)"
   ]
  },
  {
   "cell_type": "markdown",
   "id": "23ac2892",
   "metadata": {},
   "source": [
    "## Q3. Two Sum\n",
    "\n",
    "Given an array of integers nums and an integer target, return indices of the two numbers such that they add up to target.\n",
    "\n",
    "You may assume that each input would have exactly one solution, and you may not use the same element twice.\n",
    "\n",
    "You can return the answer in any order.\n",
    "\n",
    " \n",
    "\n",
    "Example 1:\n",
    "\n",
    "Input: nums = [2,7,11,15], target = 9\n",
    "Output: [0,1]\n",
    "Explanation: Because nums[0] + nums[1] == 9, we return [0, 1].\n",
    "Example 2:\n",
    "\n",
    "Input: nums = [3,2,4], target = 6\n",
    "Output: [1,2]\n",
    "Example 3:\n",
    "\n",
    "Input: nums = [3,3], target = 6\n",
    "Output: [0,1]"
   ]
  },
  {
   "cell_type": "code",
   "execution_count": null,
   "id": "bca97086",
   "metadata": {},
   "outputs": [],
   "source": [
    "dct = {}\n",
    "lst = [3, 2, 4]\n",
    "target = 6\n",
    "for i, v in enumerate(lst):\n",
    "    complement = target - v # \n",
    "#     print(complement)\n",
    "    if complement in dct: # 2 \n",
    "        print([dct[complement], i])\n",
    "    dct[v] = i # dct[2] = 0"
   ]
  },
  {
   "cell_type": "markdown",
   "id": "8e3ca416",
   "metadata": {},
   "source": [
    "## Find Missing number"
   ]
  },
  {
   "cell_type": "code",
   "execution_count": 18,
   "id": "374dfc79",
   "metadata": {},
   "outputs": [
    {
     "data": {
      "text/plain": [
       "[73, 99]"
      ]
     },
     "execution_count": 18,
     "metadata": {},
     "output_type": "execute_result"
    }
   ],
   "source": [
    "mylist = [\n",
    "    1, 2, 3, 4, 5, 6, 7, 8, 9, 10, 11, 12, 13, 14, 15, 16, 17, 18, 19, 20, 21,\n",
    "    22, 23, 24, 25, 26, 27, 28, 29, 30, 31, 32, 33, 34, 35, 36, 37, 38, 39, 40,\n",
    "    41, 42, 43, 44, 45, 46, 47, 48, 49, 50, 51, 52, 53, 54, 55, 56, 57, 58, 59,\n",
    "    60, 61, 62, 63, 64, 65, 66, 67, 68, 69, 70, 71, 72, 74, 75, 76, 77, 78, 79,\n",
    "    80, 81, 82, 83, 84, 85, 86, 87, 88, 89, 90, 91, 92, 93, 94, 95, 96, 97, 98,\n",
    "    100\n",
    "]\n",
    "\n",
    "\n",
    "def check_missing_no(lst):\n",
    "    arr = []\n",
    "    for i in range(len(lst)):\n",
    "        if i != len(lst) - 1:\n",
    "            diff = lst[i + 1] - lst[i]\n",
    "            if diff > 1:\n",
    "                arr.append(lst[i] + 1)\n",
    "    return arr\n",
    "\n",
    "\n",
    "check_missing_no(mylist)"
   ]
  },
  {
   "cell_type": "markdown",
   "id": "ecc9d6c0",
   "metadata": {},
   "source": [
    "## Selection Sort"
   ]
  },
  {
   "cell_type": "code",
   "execution_count": 28,
   "id": "9d49b574",
   "metadata": {},
   "outputs": [
    {
     "name": "stdout",
     "output_type": "stream",
     "text": [
      "[3, 6, 9, 15, 35, 36, 46]\n",
      "[2, 4, 7, 8, 9, 90]\n"
     ]
    }
   ],
   "source": [
    "lst = [35, 46,36, 9, 15,6,3]\n",
    "def selection_sort(lst):\n",
    "    for i, v in enumerate(lst):\n",
    "        min_val = min(lst[i:])\n",
    "        lst[lst.index(min_val)], lst[i] = lst[i], lst[lst.index(min_val)]\n",
    "    return lst\n",
    "print(selection_sort(lst))\n",
    "lst2 = [9, 2, 4, 8, 7, 90]\n",
    "print(selection_sort(lst2))"
   ]
  },
  {
   "cell_type": "code",
   "execution_count": null,
   "id": "338bcbdd",
   "metadata": {},
   "outputs": [],
   "source": []
  }
 ],
 "metadata": {
  "kernelspec": {
   "display_name": "Python 3 (ipykernel)",
   "language": "python",
   "name": "python3"
  },
  "language_info": {
   "codemirror_mode": {
    "name": "ipython",
    "version": 3
   },
   "file_extension": ".py",
   "mimetype": "text/x-python",
   "name": "python",
   "nbconvert_exporter": "python",
   "pygments_lexer": "ipython3",
   "version": "3.7.9"
  }
 },
 "nbformat": 4,
 "nbformat_minor": 5
}
